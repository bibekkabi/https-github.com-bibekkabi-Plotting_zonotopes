{
 "cells": [
  {
   "cell_type": "code",
   "execution_count": 2,
   "metadata": {},
   "outputs": [
    {
     "data": {
      "text/html": [
       "<div><pre style=\"&#102;&#111;&#110;&#116;&#45;&#102;&#97;&#109;&#105;&#108;&#121;&#58;&#32;&#34;&#67;&#111;&#117;&#114;&#105;&#101;&#114;&#32;&#78;&#101;&#119;&#34;&#44;&#67;&#111;&#117;&#114;&#105;&#101;&#114;&#44;&#109;&#111;&#110;&#111;&#115;&#112;&#97;&#99;&#101;&#59;\">&#49;&#50;&#46;&#48;&#46;&#49;&#32;&#102;&#111;&#114;&#32;&#76;&#105;&#110;&#117;&#120;&#32;&#120;&#56;&#54;&#32;&#40;&#54;&#52;&#45;&#98;&#105;&#116;&#41;&#32;&#40;&#79;&#99;&#116;&#111;&#98;&#101;&#114;&#32;&#49;&#54;&#44;&#32;&#50;&#48;&#49;&#57;&#41;</pre></div>"
      ],
      "text/plain": [
       "12.0.1 for Linux x86 (64-bit) (October 16, 2019)"
      ]
     },
     "execution_count": 2,
     "metadata": {
      "text/html": [],
      "text/plain": []
     },
     "output_type": "execute_result"
    }
   ],
   "source": [
    "$Version"
   ]
  },
  {
   "cell_type": "code",
   "execution_count": 13,
   "metadata": {},
   "outputs": [
    {
     "data": {
      "text/html": [
       "<div><img alt=\"Output\" src=\"data:image/png;base64,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\"></div>"
      ],
      "text/plain": [
       "-Graphics-"
      ]
     },
     "execution_count": 22,
     "metadata": {
      "text/html": [],
      "text/plain": []
     },
     "output_type": "execute_result"
    }
   ],
   "source": [
    "angulars[v_, \n",
    "  id_] := {{v, id, ArcTan[v[[1]], v[[2]]]}, {v, -id, \n",
    "   ArcTan[-v[[1]], -v[[2]]]}}\n",
    "buildSectors[a_] := \n",
    " Module[{d = Dimensions[a], n, m, sectors = {}, i, j, la, \n",
    "   at = Transpose[a], s, e}, n = d[[1]]; m = d[[2]];\n",
    "  la = Sort[\n",
    "    Flatten[Table[angulars[at[[i]], i], {i, 1, m}], \n",
    "     1], #1[[3]] < #2[[3]] &];\n",
    "  (*Print[la];*)\n",
    "  For[i = 1, i <= m, ++i,\n",
    "   s = Table[0, {j, 1, m}];\n",
    "   e = la[[i]];\n",
    "   s[[ Abs[e[[2]]] ]] = Sign[e[[2]]];\n",
    "   (*Print[s];*)\n",
    "   For[j = i + 1, j <= m + i - 1, ++j,\n",
    "    e = la[[j]];\n",
    "    s[[ Abs[e[[2]]] ]] = Sign[e[[2]]];\n",
    "    ];(* For j *)\n",
    "   (*Print[s];*)\n",
    "   \n",
    "   sectors = Join[sectors, {s, -s}]\n",
    "   (*Print[sectors]*)\n",
    "   ];(* For i *)\n",
    "  sectors]\n",
    "plotPolygonWithLabel[polygon_, label_, \n",
    "  fontSize_] := {Polygon[polygon], \n",
    "  MapThread[{EdgeForm[Thin], FaceForm[Black], \n",
    "     Disk[#1, (fontSize + 12)/72], \n",
    "     Text[Style[#2, Black, fontSize, FontFamily -> \"Helvetica Bold\", \n",
    "       Background -> White], #1]} &, {polygon, label}]}\n",
    "Clear[offsetFunc]\n",
    "offsetFunc[pts : {Repeated[_List, {3}]}] := \n",
    " Normalize[\n",
    "  Most[Cross[{0, 0, 1}, \n",
    "    Append[Total[Normalize /@ Differences[pts]], 0]]]]\n",
    "\n",
    "Clear[labeledPolygon]\n",
    "labeledPolygon[points_, labels_, offset_: 1] := {Polygon@points, \n",
    "  Text[Style[#1, Red, Bold], #2[[2]], \n",
    "     offset offsetFunc[#2]] & @@@ ({labels, \n",
    "      Partition[points, 3, 1, {2, 2}]}\\[Transpose])}\n",
    "plotZonoCheap[a_, c_, b_: 5] := \n",
    " Module[{d = Dimensions[a], s = buildSectors[a], n, m, i, j, k, \n",
    "   pts = {}, at = Transpose[a], e},\n",
    "  n = d[[1]]; m = d[[2]];\n",
    "  pts = Append[pts, Total[First[s] at] + c]; \n",
    "  While[Length[Rest[s]] != 0,\n",
    "   e = First[s];\n",
    "   j = 2;\n",
    "   For[i = 2, i <= Length[s], i++,\n",
    "    If[Count[MapThread[Equal, {s[[i]], e}], False] == 1,\n",
    "      j = i;\n",
    "      Break;\n",
    "      ];\n",
    "    ];\n",
    "   pts = Append[pts, Total[s[[j]] at] + c];\n",
    "   e = s[[2]];\n",
    "   s[[2]] = s[[j]];\n",
    "   s[[j]] = e;\n",
    "   s = Rest[s];\n",
    "   ];\n",
    "  (*Print[pts];*)\n",
    "  (*labels=Table[\"*\"<>ToString[t],{t,Length@pts}];*)\n",
    "\n",
    "   (* idx = Range[Length[pts]];*)\n",
    "  (*idx={\"*\",\"*\",\"*\",\"*\",\"*\",\"*\",\"*\",\"*\",\"*\",\"*\"};*)\n",
    "  (*idx={\"+-+--\",\n",
    "  \"+----\",\"+---+\",\"----+\",\"---++\",\"-+-++\",\"-++++\",\"-+++-\",\"++++-\",\n",
    "  \"+++--\"};*)\n",
    "  (*idx={\"--+--\",\"-----\",\"----+\",\"---++\",\"-+-++\",\n",
    "  \"-++++\",\"-+++-\",\"-++--\"};*)\n",
    "  (*idx={\"--+--\",\"-----\",\"----+\",\n",
    "  \"---++\",\"--+++\",\"--++-\"};*)\n",
    "  (*idx={\"---+-\",\"-----\",\"----+\",\n",
    "  \"---++\"};*)\n",
    " (* Text[Style[#2,Black,20],#1,{0,-1}]&@@@({pts,\n",
    "  idx}\\[Transpose])*)\n",
    "  (*Graphics[{{Opacity[0],RGBColor[0,0,1/(m-1)],\n",
    "  EdgeForm[Black],Polygon[pts]},{PointSize[Large],Point[pts]},Text[\n",
    "  Style[#2,Black,14],#1,{0,-1}]&@@@({pts,idx}\\[Transpose]),\n",
    "  PlotRange->{{-b,b},{-b,b}}}]*)\n",
    "  \n",
    "  Graphics[{{Opacity[0.4], Blue, \n",
    "     EdgeForm[(*Dashing[0.01],*)Black], Polygon[pts]},{PointSize[\n",
    "  Large],Black,Point[pts]}, PlotRange -> {{-b, b}, {-b, b}}},\n",
    "   ImageSize->Scaled[0.4]]\n",
    "   \n",
    "  \n",
    "  ]\n",
    "  \n",
    "  plotZonoCheap[{{-3, 5, 2,1,3}, {-4, 2, 0,1,5}}, {20, 10}]"
   ]
  },
  {
   "cell_type": "code",
   "execution_count": 23,
   "metadata": {},
   "outputs": [
    {
     "data": {
      "text/html": [
       "<div><img alt=\"Output\" src=\"data:image/png;base64,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\"></div>"
      ],
      "text/plain": [
       "Paclet[GitLink, 2018.07.20.01, <>]"
      ]
     },
     "execution_count": 23,
     "metadata": {
      "text/html": [],
      "text/plain": []
     },
     "output_type": "execute_result"
    }
   ],
   "source": [
    "PacletInstall[\"/home/bibek/Documents/GitLink-2018.07.20.01.paclet\"]"
   ]
  },
  {
   "cell_type": "code",
   "execution_count": 24,
   "metadata": {},
   "outputs": [
    {
     "data": {
      "text/html": [
       "<div><img alt=\"Output\" src=\"data:image/png;base64,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\"></div>"
      ],
      "text/plain": [
       "{Paclet[GitLink, 2018.07.20.01, <>]}"
      ]
     },
     "execution_count": 24,
     "metadata": {
      "text/html": [],
      "text/plain": []
     },
     "output_type": "execute_result"
    }
   ],
   "source": [
    "PacletFind[\"GitLink\"]"
   ]
  },
  {
   "cell_type": "code",
   "execution_count": null,
   "metadata": {
    "collapsed": true
   },
   "outputs": [],
   "source": []
  }
 ],
 "metadata": {
  "kernelspec": {
   "display_name": "Wolfram Language 12",
   "language": "Wolfram Language",
   "name": "wolframlanguage12"
  },
  "language_info": {
   "codemirror_mode": "mathematica",
   "file_extension": ".m",
   "mimetype": "application/vnd.wolfram.m",
   "name": "Wolfram Language",
   "pygments_lexer": "mathematica",
   "version": "12.0"
  }
 },
 "nbformat": 4,
 "nbformat_minor": 2
}
